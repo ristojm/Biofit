{
 "cells": [
  {
   "cell_type": "markdown",
   "metadata": {},
   "source": [
    "# BioFit"
   ]
  },
  {
   "cell_type": "markdown",
   "metadata": {},
   "source": [
    "This JupyterLab book can be copied and used for each different use case that you may have for the determination of empirical kenetic parameters for saturation and inhibition growth kinetics. As incrimental changes are made to various parts to the code it is recommended that you operate a git pull before obtaining a set of parameters for a collective model"
   ]
  },
  {
   "cell_type": "markdown",
   "metadata": {},
   "source": [
    "#### BioFit domain"
   ]
  },
  {
   "cell_type": "markdown",
   "metadata": {},
   "source": [
    "Before starting what is the domain where you have stored biofit? Enter its location here or if is in the current working directory then can leave empty"
   ]
  },
  {
   "cell_type": "code",
   "execution_count": 6,
   "metadata": {},
   "outputs": [],
   "source": [
    "BioFit_path = 'Insert path'\n",
    "\n",
    "import sys\n",
    "sys.path.append(BioFit_path)\n",
    "\n",
    "import os\n",
    "BioFit_path = os.getcwd()"
   ]
  },
  {
   "cell_type": "markdown",
   "metadata": {},
   "source": [
    "## Data input"
   ]
  },
  {
   "cell_type": "markdown",
   "metadata": {},
   "source": [
    "Input your data here for each use case of interest. \n",
    "You may want to make note of which use case this is here:"
   ]
  },
  {
   "cell_type": "markdown",
   "metadata": {},
   "source": [
    "What data set are you using?"
   ]
  },
  {
   "cell_type": "code",
   "execution_count": 7,
   "metadata": {},
   "outputs": [],
   "source": [
    "####Data sets to imported\n"
   ]
  },
  {
   "cell_type": "markdown",
   "metadata": {},
   "source": [
    "## Data input selection"
   ]
  },
  {
   "cell_type": "markdown",
   "metadata": {},
   "source": [
    "You may have multiple data sets, some of which you may want to select but not others. For this case specify the number of data sets you are using and which"
   ]
  },
  {
   "cell_type": "code",
   "execution_count": 8,
   "metadata": {},
   "outputs": [],
   "source": [
    "#Do you only want to consider only 1 data set? - if so set this to 1\n",
    "no_datasets = 1\n",
    "#Input lists of data sets that you want to use\n",
    "if no_datasets == 1:\n",
    "    ###Data sets to use\n",
    "    xdata_sets = [None]\n",
    "    #ydata\n",
    "    ydata_sets = [None]\n",
    "    #yerr data sets\n",
    "    yerr_sets = [None]\n",
    "else:\n",
    "    ###Data sets to use\n",
    "    xdata_sets = [None]\n",
    "    #ydata\n",
    "    ydata_sets = [None]\n",
    "    #yerr data sets\n",
    "    yerr_sets = [None]"
   ]
  },
  {
   "cell_type": "markdown",
   "metadata": {},
   "source": [
    "### Data Scaling"
   ]
  },
  {
   "cell_type": "markdown",
   "metadata": {},
   "source": [
    "It may be that you are considering multiple data sets which have variation in the y-axis due to inter-cell source variablilty. If you want to combine multiple data sets and extract the features from all then you may want to scale. "
   ]
  },
  {
   "cell_type": "code",
   "execution_count": 9,
   "metadata": {},
   "outputs": [],
   "source": [
    "#If you are using multiple data sets, do you want to scale them along the y axis to account for variation which occours due to maximum production rates\n",
    "scale = 'Yes'"
   ]
  },
  {
   "cell_type": "markdown",
   "metadata": {},
   "source": [
    "## Fitting Options"
   ]
  },
  {
   "cell_type": "markdown",
   "metadata": {},
   "source": [
    "Has your data set got error associated with each point? If yes then set error to Yes else No"
   ]
  },
  {
   "cell_type": "code",
   "execution_count": 10,
   "metadata": {},
   "outputs": [],
   "source": [
    "error = 'Yes'"
   ]
  },
  {
   "cell_type": "markdown",
   "metadata": {},
   "source": [
    "#### Estimated Variables"
   ]
  },
  {
   "cell_type": "markdown",
   "metadata": {},
   "source": [
    "According to menton kinetics it is possible to estimate certain growth kinetics from the data set. An example of this would include the maximum growth rate or production rate. From this you can detertmine the Ks value which is defined as the magnitude of the stimulant at half the maximal growth rate or production rate. It may therefore be desirible to estimate variables."
   ]
  },
  {
   "cell_type": "markdown",
   "metadata": {},
   "source": [
    "If you believe that your data set encompasses a wide enough range to estimate variables then enter yes, else leave as no. - note that it may be necessary to estimate variables if the fitted variables are outside the range of reason, therefore be sure to check final values make sense."
   ]
  },
  {
   "cell_type": "code",
   "execution_count": 11,
   "metadata": {},
   "outputs": [],
   "source": [
    "#Do you want to use estimated variables? - If you are getting a bad fit try fitting without using estimated variables\n",
    "#If you are not using the estimated variables, check the fitted parameters to make sure that they make sense\n",
    "Estimated_var = 'No'"
   ]
  },
  {
   "cell_type": "markdown",
   "metadata": {},
   "source": [
    "#### Type of fit"
   ]
  },
  {
   "cell_type": "markdown",
   "metadata": {},
   "source": [
    "From the data what kind of profile are you expecting?"
   ]
  },
  {
   "cell_type": "code",
   "execution_count": 12,
   "metadata": {},
   "outputs": [],
   "source": [
    "#When you look at the raw data, does it roughly fit a logistic, exponential or inverse log profile?\n",
    "#select from: log_growth, exp_growth or inverse_log\n",
    "profile = 'log_growth'\n",
    "\n",
    "#Do you have basal production?\n",
    "basal = 'Yes'"
   ]
  },
  {
   "cell_type": "markdown",
   "metadata": {},
   "source": [
    "#### More options"
   ]
  },
  {
   "cell_type": "code",
   "execution_count": 13,
   "metadata": {},
   "outputs": [],
   "source": [
    "#What is your minimum acceptable R^2 value to accept a fitted model\n",
    "min_r2 = 0.8\n",
    "#What is the smallest x-axis value you want to plot\n",
    "xmin_plot = 1e-7\n",
    "#what value do you replace 0s with in x data\n",
    "x0_replace = xmin_plot\n",
    "#which models do you want to try fit and plot \n",
    "models = ['Menten','Luong','Andrews','Aiba','Moser','Webb','Yano','Haldane','Edward','Han-Levenspiel','Inverse_Monod','exp_growth']\n",
    "##Do you want to print out fitting values?\n",
    "fit_print = 'No'"
   ]
  },
  {
   "cell_type": "markdown",
   "metadata": {},
   "source": [
    "## Plotting Options"
   ]
  },
  {
   "cell_type": "markdown",
   "metadata": {},
   "source": [
    "#### Axis lables"
   ]
  },
  {
   "cell_type": "markdown",
   "metadata": {},
   "source": [
    "Input axis labels for resulting figures, be sure to put the right units"
   ]
  },
  {
   "cell_type": "code",
   "execution_count": 14,
   "metadata": {},
   "outputs": [],
   "source": [
    "#X-axis label\n",
    "xlabel=r'x-axis label'\n",
    "#Y-axis label\n",
    "ylabel=r'y-axis label'\n",
    "#Do you want to plot a figure legend?\n",
    "legend_plot = 'Yes'\n",
    "#How many points do you want between each xaxis data point when plotting funtions\n",
    "x_plotno = 30\n",
    "#Do you want to calculate function values only within that of the experimental data?\n",
    "max_check = 'Yes'\n",
    "#If you want to calculate to another value what is it?\n",
    "max_x = 200"
   ]
  },
  {
   "cell_type": "markdown",
   "metadata": {},
   "source": [
    "## Saving options"
   ]
  },
  {
   "cell_type": "code",
   "execution_count": 15,
   "metadata": {},
   "outputs": [],
   "source": [
    "#What directory do you want to save the figure to?\n",
    "root =  'Where do you want everything to save insert the path here'\n",
    "#What do you want to call the figure which you are saving?\n",
    "figure_name = 'What is your figure file name'\n",
    "#What do you want to call the data file which you are saving?\n",
    "data_name = 'What is your data output file name'"
   ]
  },
  {
   "cell_type": "markdown",
   "metadata": {},
   "source": [
    "## Import libraries and functions"
   ]
  },
  {
   "cell_type": "code",
   "execution_count": 16,
   "metadata": {},
   "outputs": [
    {
     "ename": "ModuleNotFoundError",
     "evalue": "No module named 'Biofit_functions'",
     "output_type": "error",
     "traceback": [
      "\u001b[0;31m---------------------------------------------------------------------------\u001b[0m",
      "\u001b[0;31mModuleNotFoundError\u001b[0m                       Traceback (most recent call last)",
      "\u001b[0;32m/var/folders/dw/7hyg5yn15331npl8_ss6cl_40000gn/T/ipykernel_8070/4160891415.py\u001b[0m in \u001b[0;36m<module>\u001b[0;34m\u001b[0m\n\u001b[0;32m----> 1\u001b[0;31m \u001b[0;32mfrom\u001b[0m \u001b[0mBiofit_functions\u001b[0m \u001b[0;32mimport\u001b[0m \u001b[0;34m*\u001b[0m\u001b[0;34m\u001b[0m\u001b[0;34m\u001b[0m\u001b[0m\n\u001b[0m\u001b[1;32m      2\u001b[0m \u001b[0;32mimport\u001b[0m \u001b[0mpandas\u001b[0m \u001b[0;32mas\u001b[0m \u001b[0mpd\u001b[0m\u001b[0;34m\u001b[0m\u001b[0;34m\u001b[0m\u001b[0m\n\u001b[1;32m      3\u001b[0m \u001b[0;32mimport\u001b[0m \u001b[0mnumpy\u001b[0m \u001b[0;32mas\u001b[0m \u001b[0mnp\u001b[0m\u001b[0;34m\u001b[0m\u001b[0;34m\u001b[0m\u001b[0m\n\u001b[1;32m      4\u001b[0m \u001b[0;32mimport\u001b[0m \u001b[0mmatplotlib\u001b[0m\u001b[0;34m.\u001b[0m\u001b[0mpyplot\u001b[0m \u001b[0;32mas\u001b[0m \u001b[0mplt\u001b[0m\u001b[0;34m\u001b[0m\u001b[0;34m\u001b[0m\u001b[0m\n\u001b[1;32m      5\u001b[0m \u001b[0;32mimport\u001b[0m \u001b[0mimportlib\u001b[0m\u001b[0;34m\u001b[0m\u001b[0;34m\u001b[0m\u001b[0m\n",
      "\u001b[0;31mModuleNotFoundError\u001b[0m: No module named 'Biofit_functions'"
     ]
    }
   ],
   "source": [
    "from Biofit_functions import *\n",
    "import pandas as pd\n",
    "import numpy as np\n",
    "import matplotlib.pyplot as plt\n",
    "import importlib\n",
    "from BioFit_options import *"
   ]
  },
  {
   "cell_type": "markdown",
   "metadata": {},
   "source": [
    "## Estimation of variables"
   ]
  },
  {
   "cell_type": "markdown",
   "metadata": {},
   "source": [
    "If combining multiple data sets it may be there there are multiple data points associated with each x-axis point. To avoid errors occouring while fitting models to data need to therefore combine and calculate averages for these points"
   ]
  },
  {
   "cell_type": "code",
   "execution_count": null,
   "metadata": {},
   "outputs": [],
   "source": [
    "xdata,ydata,yerr = comb_set(no_datasets,scale,xdata_sets,ydata_sets,yerr_sets,x0_replace,error)\n",
    "print(xdata,ydata,yerr)"
   ]
  },
  {
   "cell_type": "markdown",
   "metadata": {},
   "source": [
    "According to menten kinetics it is possible to estimate kinetic parameters by taking the largest rate as a maximum expression or growth rate. The Ks parameter is then half the magnitude of the sitimulus at associated with this maximal value. We can therefore estimate these values if the data set provided is at a high enough resolution across the range of interest"
   ]
  },
  {
   "cell_type": "code",
   "execution_count": null,
   "metadata": {},
   "outputs": [],
   "source": [
    "#ad_bounds = esti_var(Estimated_var,ydata,xdata)[2]\n",
    "Smin,bounds,ad_bounds = esti_var(Estimated_var,ydata,xdata)\n",
    "\n",
    "print(bounds)\n",
    "print(Smin)"
   ]
  },
  {
   "cell_type": "markdown",
   "metadata": {},
   "source": [
    "When plotting we must calculate y-axis values associated with each x-axis point after we have determined the kinetic parameters associated with each model in order to plot them. To ensure a constant resolution of this plot we determine which x-axis values we should consider when calculating y-axis points."
   ]
  },
  {
   "cell_type": "code",
   "execution_count": null,
   "metadata": {},
   "outputs": [],
   "source": [
    "xdata_plot = xsteps(xdata,x_plotno,xmin_plot,max_check,max_x)\n",
    "#print(xdata_plot)"
   ]
  },
  {
   "cell_type": "markdown",
   "metadata": {},
   "source": [
    "## Fitting and Plotting of models"
   ]
  },
  {
   "cell_type": "code",
   "execution_count": null,
   "metadata": {},
   "outputs": [],
   "source": [
    "#Create dataframe into which variables are to be saved\n",
    "ep_df = pd.DataFrame()\n",
    "\n",
    "#Create figure to plot data and fitted funcitons onto\n",
    "fig, ax = plt.subplots()\n",
    "\n",
    "#Plot raw experimental data\n",
    "if error == 'Yes':\n",
    "    ax.errorbar(xdata, ydata, yerr=yerr, fmt='o')\n",
    "else:\n",
    "    ax.scatter(xdata, ydata, marker='o')\n",
    "\n",
    "#Want to dynamically import function associated with each model of interest. To do this will import functions from bio_fit models package\n",
    "#Initially want to to programatically make a string of function of interest\n",
    "#Check if basal production\n",
    "if basal == 'Yes':\n",
    "    #In the case of inverse_log while it may be that there is basal production only consider on set of models\n",
    "    if profile == 'inverse_log':\n",
    "        full_module_name = 'biofit_models.' + profile + '.' +'models'\n",
    "    #Select models of those with basal production\n",
    "    else:\n",
    "        full_module_name = 'biofit_models.' + profile + '.' + 'basal.' +'models'\n",
    "    #Select models which have no basal production and are not inverse log\n",
    "else:\n",
    "    full_module_name = 'biofit_models.' + profile + '.' +'models'\n",
    "#Having made a string of the module to be imported then import module\n",
    "mymodule = importlib.import_module(full_module_name)\n",
    "\n",
    "#Having imported module containing models want to check if the specified models exist within the module\n",
    "for model in models:\n",
    "    if model not in dir(mymodule):       \n",
    "        pass\n",
    "    else:\n",
    "        #select the model from the module if the \n",
    "        function = getattr(mymodule, model)\n",
    "        \n",
    "        ####Having retrieved the model then proceed to fit###\n",
    "        abounds = ad_bounds[model]\n",
    "        # print(bounds)\n",
    "        bbounds = bounds[model]\n",
    "        \n",
    "#         print(abounds)\n",
    "#         print(bbounds)\n",
    "        pop, pcov = fitting(basal=basal,function=function,model=model,xdata=xdata,ydata=ydata,error=error,sigma=yerr,bounds=bbounds,abounds=abounds)\n",
    "        \n",
    "        #Having fit the function want to save associated fitting data to dataframe\n",
    "        #Create list of variables associated with function\n",
    "        var_list = list(function.__code__.co_varnames)\n",
    "        var_list.remove('S')\n",
    "        #append fitted values and statistics to global dataframe\n",
    "        ep_df,r_squared,max_function_y = fit_figures(basal,xdata,ydata,xdata_plot,var_list,pop,model,function,ep_df)\n",
    "        #print(max_function_y)\n",
    "        #Print out statement of fitted values and associated statistics for easy quick check\n",
    "        if fit_print == 'Yes':\n",
    "            print(model+str(pop))\n",
    "            print(model+'r_squared='+str(r_squared))\n",
    "            \n",
    "        \n",
    "        #Plot from fitted model figures\n",
    "        #check to make sure worth plotting\n",
    "        if r_squared < min_r2:\n",
    "            pass\n",
    "        else:\n",
    "            ax.plot(xdata_plot, function(xdata_plot, *pop), linestyle=model_style[model], color=model_colour[model],label=model)\n",
    "#Set labels of plot\n",
    "ax.set(xlabel=xlabel, ylabel=ylabel)\n",
    "#plotting legend \n",
    "if legend_plot == 'Yes':\n",
    "    plt.legend()\n",
    "\n",
    "#Set axis bounds of plot\n",
    "#Axis limits in figure\n",
    "#X-axis\n",
    "xmin = 0\n",
    "xmax = max(xdata)*1.2\n",
    "#Y-axis\n",
    "ymax = 0\n",
    "ymin = max(ydata)*1.2\n",
    "#setting bounds\n",
    "axes = plt.gca()\n",
    "#axes.set_xlim([xmin,xmax])\n",
    "#axes.set_ylim([ymax,ymin])\n",
    "#Make figure tight\n",
    "fig.tight_layout()\n",
    "plt.show()\n",
    "#Specify figure save location\n",
    "figure_loc = root+'figures/'\n",
    "#make sure figure save location exists\n",
    "checkdir(figure_loc)\n",
    "#Save figure out\n",
    "fig.savefig(figure_loc+figure_name, dpi=300)\n",
    "\n",
    "##Saving Data out\n",
    "#Save out global fitted function value dataframe\n",
    "#Move model column to be first column for ease of reading\n",
    "ep_df.insert(0, 'Model', ep_df.pop('model'))\n",
    "#Reorder models based on R^2 value\n",
    "ep_df = ep_df.sort_values(by=['R Squared'],ascending=False)\n",
    "#Reset pandas dataframe index\n",
    "ep_df = ep_df.reset_index(drop=True)\n",
    "#Specify data save location\n",
    "data_loc = root+'data/'\n",
    "#make sure data file location exists\n",
    "checkdir(data_loc)\n",
    "#Save dataframe out \n",
    "ep_df.to_csv(data_loc+data_name+'.csv')\n",
    "#Print dataframe for ease of quick check\n",
    "print(ep_df)"
   ]
  },
  {
   "cell_type": "code",
   "execution_count": null,
   "metadata": {},
   "outputs": [],
   "source": []
  }
 ],
 "metadata": {
  "kernelspec": {
   "display_name": "Python 3 (ipykernel)",
   "language": "python",
   "name": "python3"
  },
  "language_info": {
   "codemirror_mode": {
    "name": "ipython",
    "version": 3
   },
   "file_extension": ".py",
   "mimetype": "text/x-python",
   "name": "python",
   "nbconvert_exporter": "python",
   "pygments_lexer": "ipython3",
   "version": "3.8.12"
  }
 },
 "nbformat": 4,
 "nbformat_minor": 4
}
