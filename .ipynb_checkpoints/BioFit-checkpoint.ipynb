{
 "cells": [
  {
   "cell_type": "markdown",
   "metadata": {},
   "source": [
    "# BioFit"
   ]
  },
  {
   "cell_type": "markdown",
   "metadata": {},
   "source": [
    "This JupyterLab book can be copied and used for each different use case that you may have for the determination of empirical kenetic parameters for saturation and inhibition growth kinetics. As incrimental changes are made to various parts to the code it is recommended that you operate a git pull before obtaining a set of parameters for a collective model"
   ]
  },
  {
   "cell_type": "markdown",
   "metadata": {},
   "source": [
    "#### BioFit domain"
   ]
  },
  {
   "cell_type": "markdown",
   "metadata": {},
   "source": [
    "Before starting what is the domain where you have stored biofit? Enter its location here or if is in the current working directory then can leave empty"
   ]
  },
  {
   "cell_type": "code",
   "execution_count": null,
   "metadata": {},
   "outputs": [],
   "source": [
    "BioFit_path = ''\n",
    "\n",
    "import sys\n",
    "sys.path.append(BioFit_path)\n",
    "\n",
    "import os\n",
    "BioFit_path = os.getcwd()"
   ]
  },
  {
   "cell_type": "markdown",
   "metadata": {},
   "source": [
    "## Data input"
   ]
  },
  {
   "cell_type": "markdown",
   "metadata": {},
   "source": [
    "Input your data here for each use case of interest. \n",
    "You may want to make note of which use case this is here: Data for VSMC proliforation due to NO conc"
   ]
  },
  {
   "cell_type": "code",
   "execution_count": 1,
   "metadata": {},
   "outputs": [],
   "source": [
    "#Tanner, F. C, T. F. (2000)\n",
    "#Tanner_x = [0,1.00E+01,1.00E+02,1.00E+03]\n",
    "Tanner_x = [0,1.00E-05,1.00E-04,1.00E-03]\n",
    "#shifted\n",
    "Tanner_y = [0.017821644,0.017304915,0.013248376,9.49536E-06]\n",
    "Tanner_y_err = [0.000444829,0.000530232,0.000596935,0.000774962]"
   ]
  },
  {
   "cell_type": "markdown",
   "metadata": {},
   "source": [
    "## Data input selection"
   ]
  },
  {
   "cell_type": "markdown",
   "metadata": {},
   "source": [
    "You may have multiple data sets, some of which you may want to select but not others. For this case specify the number of data sets you are using and which"
   ]
  },
  {
   "cell_type": "code",
   "execution_count": 2,
   "metadata": {},
   "outputs": [],
   "source": [
    "#Do you only want to consider only 1 data set? - if so set this to 1\n",
    "no_datasets = 1\n",
    "#Input lists of data sets that you want to use\n",
    "if no_datasets == 1:\n",
    "    ###Data sets to use\n",
    "    xdata_sets = [Tanner_x]\n",
    "    #ydata\n",
    "    ydata_sets = [Tanner_y]\n",
    "    #yerr data sets\n",
    "    yerr_sets = [Tanner_y_err]\n",
    "else:\n",
    "    ###Data sets to use\n",
    "    #xdata_sets = [Morb_VEGF_conc,Myoken_VEGF_conc,Bussolati_VEGF_conc]\n",
    "    #ydata\n",
    "    #ydata_sets = [Morb_prolif,Myoken_prolif,Bussolati_prolif]\n",
    "    #yerr data sets\n",
    "    #yerr_sets = [Morb_prolif_err,Myoken_prolif_err,Bussolati_prolif_err]\n",
    "    pass"
   ]
  },
  {
   "cell_type": "markdown",
   "metadata": {},
   "source": [
    "### Data Scaling"
   ]
  },
  {
   "cell_type": "markdown",
   "metadata": {},
   "source": [
    "It may be that you are considering multiple data sets which have variation in the y-axis due to inter-cell source variablilty. If you want to combine multiple data sets and extract the features from all then you may want to scale. "
   ]
  },
  {
   "cell_type": "code",
   "execution_count": 3,
   "metadata": {},
   "outputs": [],
   "source": [
    "#If you are using multiple data sets, do you want to scale them along the y axis to account for variation which occours due to maximum production rates\n",
    "scale = 'Yes'"
   ]
  },
  {
   "cell_type": "markdown",
   "metadata": {},
   "source": [
    "## Fitting Options"
   ]
  },
  {
   "cell_type": "markdown",
   "metadata": {},
   "source": [
    "Has your data set got error associated with each point? If yes then set error to Yes else No"
   ]
  },
  {
   "cell_type": "code",
   "execution_count": 4,
   "metadata": {},
   "outputs": [],
   "source": [
    "error = 'Yes'"
   ]
  },
  {
   "cell_type": "markdown",
   "metadata": {},
   "source": [
    "#### Estimated Variables"
   ]
  },
  {
   "cell_type": "markdown",
   "metadata": {},
   "source": [
    "According to menton kinetics it is possible to estimate certain growth kinetics from the data set. An example of this would include the maximum growth rate or production rate. From this you can detertmine the Ks value which is defined as the magnitude of the stimulant at half the maximal growth rate or production rate. It may therefore be desirible to estimate variables."
   ]
  },
  {
   "cell_type": "markdown",
   "metadata": {},
   "source": [
    "If you believe that your data set encompasses a wide enough range to estimate variables then enter yes, else leave as no. - note that it may be necessary to estimate variables if the fitted variables are outside the range of reason, therefore be sure to check final values make sense."
   ]
  },
  {
   "cell_type": "code",
   "execution_count": 5,
   "metadata": {},
   "outputs": [],
   "source": [
    "#Do you want to use estimated variables? - If you are getting a bad fit try fitting without using estimated variables\n",
    "#If you are not using the estimated variables, check the fitted parameters to make sure that they make sense\n",
    "Estimated_var = 'No'"
   ]
  },
  {
   "cell_type": "markdown",
   "metadata": {},
   "source": [
    "#### Type of fit"
   ]
  },
  {
   "cell_type": "markdown",
   "metadata": {},
   "source": [
    "From the data what kind of profile are you expecting?"
   ]
  },
  {
   "cell_type": "code",
   "execution_count": 6,
   "metadata": {},
   "outputs": [],
   "source": [
    "#When you look at the raw data, does it roughly fit a logistic, exponential or inverse log profile?\n",
    "#select from: log_growth, exp_growth or inverse_log\n",
    "profile = 'inverse_log'\n",
    "\n",
    "#Do you have basal production?\n",
    "basal = 'Yes'"
   ]
  },
  {
   "cell_type": "markdown",
   "metadata": {},
   "source": [
    "#### More options"
   ]
  },
  {
   "cell_type": "code",
   "execution_count": 7,
   "metadata": {},
   "outputs": [],
   "source": [
    "#What is your minimum acceptable R^2 value to accept a fitted model\n",
    "min_r2 = 0.3\n",
    "#What is the smallest x-axis value you want to plot\n",
    "xmin_plot = 1e-7\n",
    "#what value do you replace 0s with in x data\n",
    "x0_replace = xmin_plot\n",
    "#which models do you want to try fit and plot \n",
    "models = ['Menten','Luong','Andrews','Aiba','Moser','Webb','Yano','Haldane','Edward','Han-Levenspiel']\n",
    "##Do you want to print out fitting values?\n",
    "fit_print = 'No'"
   ]
  },
  {
   "cell_type": "markdown",
   "metadata": {},
   "source": [
    "## Plotting Options"
   ]
  },
  {
   "cell_type": "markdown",
   "metadata": {},
   "source": [
    "#### Axis lables"
   ]
  },
  {
   "cell_type": "markdown",
   "metadata": {},
   "source": [
    "Input axis labels for resulting figures, be sure to put the right units"
   ]
  },
  {
   "cell_type": "code",
   "execution_count": 8,
   "metadata": {},
   "outputs": [],
   "source": [
    "####Plotting Settings\n",
    "#X-axis label\n",
    "xlabel=r'DETANO $(M/L)$'\n",
    "#Y-axis label\n",
    "ylabel=r'Cell Growth Rate $(\\frac{1}{hr})$'\n",
    "#Do you want to plot a figure legend?\n",
    "legend_plot = 'Yes'\n",
    "#How many points do you want between each xaxis data point when plotting funtions - the higher the number the smoother the curve but the longer it will take to make the figure\n",
    "x_plotno = 30"
   ]
  },
  {
   "cell_type": "markdown",
   "metadata": {},
   "source": [
    "## Saving options"
   ]
  },
  {
   "cell_type": "code",
   "execution_count": 9,
   "metadata": {},
   "outputs": [],
   "source": [
    "#What directory do you want to save the figure to?\n",
    "#root =  '/Users/lucaignatius/OneDrive/Documents/Medicine/Year_3/PROJECT/Modelling_data/'\n",
    "root =  '/Users/ristomartin/Dropbox/UniStuff/DPhil/Experimental/python_analysis/math_modelling/EC_growth_model/'\n",
    "#What do you want to call the figure which you are saving?\n",
    "figure_name = 'EC_SS_Prolif'\n",
    "#What do you want to call the data file which you are saving?\n",
    "data_name = 'EC_SS_Prolif'"
   ]
  },
  {
   "cell_type": "markdown",
   "metadata": {},
   "source": [
    "## Import libraries and functions"
   ]
  },
  {
   "cell_type": "code",
   "execution_count": 24,
   "metadata": {},
   "outputs": [],
   "source": [
    "from Biofit_functions import *\n",
    "import pandas as pd\n",
    "import numpy as np\n",
    "import matplotlib.pyplot as plt\n",
    "import importlib"
   ]
  },
  {
   "cell_type": "markdown",
   "metadata": {},
   "source": [
    "## Estimation of variables"
   ]
  },
  {
   "cell_type": "markdown",
   "metadata": {},
   "source": [
    "If combining multiple data sets it may be there there are multiple data points associated with each x-axis point. To avoid errors occouring while fitting models to data need to therefore combine and calculate averages for these points"
   ]
  },
  {
   "cell_type": "code",
   "execution_count": 11,
   "metadata": {},
   "outputs": [
    {
     "name": "stdout",
     "output_type": "stream",
     "text": [
      "[1e-07, 1e-05, 0.0001, 0.001] [0.017821644, 0.017304915, 0.013248376, 9.49536e-06] [0.000444829, 0.000530232, 0.000596935, 0.000774962]\n"
     ]
    }
   ],
   "source": [
    "xdata,ydata,yerr = comb_set(no_datasets,scale,xdata_sets,ydata_sets,yerr_sets,x0_replace,error)\n",
    "print(xdata,ydata,yerr)"
   ]
  },
  {
   "cell_type": "markdown",
   "metadata": {},
   "source": [
    "According to menten kinetics it is possible to estimate kinetic parameters by taking the largest rate as a maximum expression or growth rate. The Ks parameter is then half the magnitude of the sitimulus at associated with this maximal value. We can therefore estimate these values if the data set provided is at a high enough resolution across the range of interest"
   ]
  },
  {
   "cell_type": "code",
   "execution_count": 12,
   "metadata": {},
   "outputs": [
    {
     "name": "stdout",
     "output_type": "stream",
     "text": [
      "([1e-18, 1e-18], [inf, inf])\n",
      "0.001\n"
     ]
    }
   ],
   "source": [
    "Smin,bounds = esti_var(Estimated_var,ydata,xdata)\n",
    "print(bounds)\n",
    "print(Smin)"
   ]
  },
  {
   "cell_type": "markdown",
   "metadata": {},
   "source": [
    "When plotting we must calculate y-axis values associated with each x-axis point after we have determined the kinetic parameters associated with each model in order to plot them. To ensure a constant resolution of this plot we determine which x-axis values we should consider when calculating y-axis points."
   ]
  },
  {
   "cell_type": "code",
   "execution_count": 13,
   "metadata": {},
   "outputs": [
    {
     "name": "stdout",
     "output_type": "stream",
     "text": [
      "0     1.000000e-07\n",
      "1     1.010000e-05\n",
      "2     2.010000e-05\n",
      "3     3.010000e-05\n",
      "4     4.010000e-05\n",
      "          ...     \n",
      "95    9.501000e-04\n",
      "96    9.601000e-04\n",
      "97    9.701000e-04\n",
      "98    9.801000e-04\n",
      "99    9.901000e-04\n",
      "Length: 100, dtype: float64\n"
     ]
    }
   ],
   "source": [
    "xdata_plot = xsteps(xdata,x_plotno,xmin_plot)\n",
    "print(xdata_plot)"
   ]
  },
  {
   "cell_type": "markdown",
   "metadata": {},
   "source": [
    "## Fitting and Plotting of models"
   ]
  },
  {
   "cell_type": "markdown",
   "metadata": {},
   "source": [
    "Before fitting create figure with original data shown and create dataframe to be saved out with all of the models ordered accordign to their quality of fit and the associated emperical parameters"
   ]
  },
  {
   "cell_type": "code",
   "execution_count": 20,
   "metadata": {},
   "outputs": [],
   "source": [
    "#Create dictionary of additional bounds to be applied to each model, these are inserted into curve fit to set limits to which parameters may fall, with and without\n",
    "#estimiated parameters as these additional parameters may not be estimated from menten kenetics theory \n",
    "ad_bounds = {'Menten':([],[]),'Han':([Smin,-np.inf,-np.inf],[np.inf,np.inf,np.inf]),'Luong':([Smin,-np.inf],[np.inf,np.inf]),'Andrews':([1e-13],[np.inf]),\n",
    "             'Aiba':([0],[np.inf]),'Moser':([0],[np.inf]),'Edward':([1e-13],[np.inf]),'Webb':([1e-13,-np.inf],[np.inf,np.inf]),\n",
    "             'Yano':([1e-13,-np.inf],[np.inf,np.inf]),'Haldane':([1e-13,Smin],[np.inf,np.inf])}\n",
    "\n",
    "##Create dictonary of line styles and colours associated with each model\n",
    "#Line style\n",
    "model_style = {'Inverse Monod':'--','Menten':'--','Han-Levenspiel':'-','Luong':'-','Andrews':'-','Aiba':'-',\n",
    "               'Moser':'-','Edward':'--','Webb':'--','Yano':'--','Haldane':'--'}\n",
    "#line colours\n",
    "model_colour = {'Inverse Monod':'k','Menten':'k','Han-Levenspiel':'k','Luong':'g','Andrews':'c','Aiba':'m',\n",
    "               'Moser':'y','Edward':'y','Webb':'b','Yano':'r','Haldane':'m'}"
   ]
  },
  {
   "cell_type": "code",
   "execution_count": 25,
   "metadata": {},
   "outputs": [
    {
     "name": "stderr",
     "output_type": "stream",
     "text": [
      "/Users/ristomartin/opt/anaconda3/lib/python3.8/site-packages/scipy/optimize/minpack.py:828: OptimizeWarning: Covariance of the parameters could not be estimated\n",
      "  warnings.warn('Covariance of the parameters could not be estimated',\n",
      "/Users/ristomartin/opt/anaconda3/lib/python3.8/site-packages/scipy/optimize/minpack.py:828: OptimizeWarning: Covariance of the parameters could not be estimated\n",
      "  warnings.warn('Covariance of the parameters could not be estimated',\n",
      "/Users/ristomartin/opt/anaconda3/lib/python3.8/site-packages/scipy/optimize/minpack.py:828: OptimizeWarning: Covariance of the parameters could not be estimated\n",
      "  warnings.warn('Covariance of the parameters could not be estimated',\n",
      "/Users/ristomartin/opt/anaconda3/lib/python3.8/site-packages/scipy/optimize/minpack.py:828: OptimizeWarning: Covariance of the parameters could not be estimated\n",
      "  warnings.warn('Covariance of the parameters could not be estimated',\n",
      "/Users/ristomartin/opt/anaconda3/lib/python3.8/site-packages/scipy/optimize/minpack.py:828: OptimizeWarning: Covariance of the parameters could not be estimated\n",
      "  warnings.warn('Covariance of the parameters could not be estimated',\n",
      "/Users/ristomartin/opt/anaconda3/lib/python3.8/site-packages/scipy/optimize/minpack.py:828: OptimizeWarning: Covariance of the parameters could not be estimated\n",
      "  warnings.warn('Covariance of the parameters could not be estimated',\n",
      "/Users/ristomartin/opt/anaconda3/lib/python3.8/site-packages/scipy/optimize/minpack.py:828: OptimizeWarning: Covariance of the parameters could not be estimated\n",
      "  warnings.warn('Covariance of the parameters could not be estimated',\n"
     ]
    },
    {
     "name": "stdout",
     "output_type": "stream",
     "text": [
      "     Model      mu_max            Ks         a  R Squared      S_max  \\\n",
      "0  Andrews    0.073235  1.394261e-03  0.017822   1.000000        NaN   \n",
      "1     Webb    0.042119  8.152982e-04  0.017821   1.000000        NaN   \n",
      "2     Aiba   88.515319  1.743166e+00  0.017819   0.999999        NaN   \n",
      "3    Luong  143.791711  2.831808e+00  0.017819   0.999999   2.436548   \n",
      "4  Haldane    0.026277  2.323994e-07  0.017822   0.999997  31.042028   \n",
      "5   Menten    0.026277  4.751953e-04  0.017822   0.999997        NaN   \n",
      "6   Edward   17.220310  1.526015e-05  0.016990   0.975906        NaN   \n",
      "7     Yano   21.318139  1.227967e+00  0.017061   0.975134        NaN   \n",
      "8    Moser    0.831210  2.920027e+00  0.014433  -0.105357        NaN   \n",
      "\n",
      "             n            Ki             K  \n",
      "0          NaN      0.001394           NaN  \n",
      "1          NaN      0.001820  17300.243104  \n",
      "2          NaN      0.000955           NaN  \n",
      "3  2551.399004           NaN           NaN  \n",
      "4          NaN  65356.740996           NaN  \n",
      "5          NaN           NaN           NaN  \n",
      "6          NaN     18.173346           NaN  \n",
      "7          NaN    855.122514      1.000000  \n",
      "8     6.505105           NaN           NaN  \n"
     ]
    },
    {
     "data": {
      "image/png": "[encoded data removed]",
      "text/plain": [
       "<Figure size 432x288 with 1 Axes>"
      ]
     },
     "metadata": {
      "needs_background": "light"
     },
     "output_type": "display_data"
    }
   ],
   "source": [
    "#Create dataframe into which variables are to be saved\n",
    "ep_df = pd.DataFrame()\n",
    "\n",
    "#Create figure to plot data and fitted funcitons onto\n",
    "fig, ax = plt.subplots()\n",
    "\n",
    "#Plot raw experimental data\n",
    "if error == 'Yes':\n",
    "    ax.errorbar(xdata, ydata, yerr=yerr, fmt='o')\n",
    "else:\n",
    "    ax.scatter(xdata, ydata, marker='o')\n",
    "\n",
    "#Want to dynamically import function associated with each model of interest. To do this will import functions from bio_fit models package\n",
    "#Initially want to to programatically make a string of function of interest\n",
    "#Check if basal production\n",
    "if basal == 'Yes':\n",
    "    #In the case of inverse_log while it may be that there is basal production only consider on set of models\n",
    "    if profile == 'inverse_log':\n",
    "        full_module_name = 'biofit_models.' + profile + '.' +'models'\n",
    "    #Select models of those with basal production\n",
    "    else:\n",
    "        full_module_name = 'biofit_models.' + profile + '.' + 'basal.' +'models'\n",
    "    #Select models which have no basal production and are not inverse log\n",
    "else:\n",
    "    full_module_name = 'biofit_models.' + profile + '.' +'models'\n",
    "#Having made a string of the module to be imported then import module\n",
    "mymodule = importlib.import_module(full_module_name)\n",
    "#Having imported module containing models want to check if the specified models exist within the module\n",
    "for model in models:\n",
    "    if model not in dir(mymodule):       \n",
    "        pass\n",
    "    else:\n",
    "        #select the model from the module if the \n",
    "        function = getattr(mymodule, model)\n",
    "       \n",
    "        ####Having retrieved the model then proceed to fit###\n",
    "        #make temp holder of bounds so that can be used in each fitting\n",
    "        tbounds = copy.deepcopy(bounds)\n",
    "        #Need to add in any additional bounds on top of those for menten\n",
    "        for i,a in enumerate(ad_bounds[model]):\n",
    "            tbounds[i].extend(a)\n",
    "        #Having defined bounds check which functions to fit and then fit\n",
    "        if basal == 'Yes':\n",
    "            #If have basal produciton and using bounds also need to add a term to bounds used\n",
    "            amax = max(ydata)\n",
    "            amin = -np.inf\n",
    "            a_terms = ([amin],[amax])\n",
    "            for i,a in enumerate(a_terms):\n",
    "                tbounds[i].extend(a_terms[i])\n",
    "            if error == 'Yes':\n",
    "                pop, pcov = curve_fit(function, xdata, ydata, sigma=yerr,maxfev=1000000,bounds=tbounds)\n",
    "            else:\n",
    "                pop, pcov = curve_fit(function, xdata, ydata,maxfev=1000000,bounds=tbounds)\n",
    "        else:\n",
    "            if error == 'Yes':\n",
    "                pop, pcov = curve_fit(function, xdata, ydata,sigma=yerr,maxfev=1000000,bounds=tbounds)\n",
    "            else:\n",
    "                pop, pcov = curve_fit(function, xdata, ydata,maxfev=1000000,bounds=tbounds)\n",
    "        \n",
    "        \n",
    "        #Having fit the function want to save associated fitting data to dataframe\n",
    "        #Create list of variables associated with function\n",
    "        var_list = list(function.__code__.co_varnames)\n",
    "        var_list.remove('S')\n",
    "        #append fitted values and statistics to global dataframe\n",
    "        ep_df,r_squared = fit_figures(basal,xdata,ydata,var_list,pop,model,function,ep_df)\n",
    "        #Print out statement of fitted values and associated statistics for easy quick check\n",
    "        if fit_print == 'Yes':\n",
    "            print(model+str(pop))\n",
    "            print(model+'r_squared='+str(r_squared))\n",
    "            \n",
    "        \n",
    "        #Plot from fitted model figures\n",
    "        #check to make sure worth plotting\n",
    "        if r_squared < min_r2:\n",
    "            pass\n",
    "        else:\n",
    "            ax.plot(xdata_plot, function(xdata_plot, *pop), linestyle=model_style[model], color=model_colour[model],label=model)\n",
    "#Set labels of plot\n",
    "ax.set(xlabel=xlabel, ylabel=ylabel)\n",
    "#plotting legend \n",
    "if legend_plot == 'Yes':\n",
    "    plt.legend()\n",
    "\n",
    "#Set axis bounds of plot\n",
    "#Axis limits in figure\n",
    "#X-axis\n",
    "xmin = 0\n",
    "xmax = max(xdata)*1.2\n",
    "#Y-axis\n",
    "ymax = 0\n",
    "ymin = max(ydata)*1.2\n",
    "#setting bounds\n",
    "axes = plt.gca()\n",
    "#axes.set_xlim([xmin,xmax])\n",
    "#axes.set_ylim([ymax,ymin])\n",
    "#Make figure tight\n",
    "fig.tight_layout()\n",
    "#Specify figure save location\n",
    "figure_loc = root+'figures/'\n",
    "#make sure figure save location exists\n",
    "checkdir(figure_loc)\n",
    "#Save figure out\n",
    "fig.savefig(figure_loc+figure_name, dpi=300)\n",
    "\n",
    "##Saving Data out\n",
    "#Save out global fitted function value dataframe\n",
    "#Move model column to be first column for ease of reading\n",
    "ep_df.insert(0, 'Model', ep_df.pop('model'))\n",
    "#Reorder models based on R^2 value\n",
    "ep_df = ep_df.sort_values(by=['R Squared'],ascending=False)\n",
    "#Reset pandas dataframe index\n",
    "ep_df = ep_df.reset_index(drop=True)\n",
    "#Specify data save location\n",
    "data_loc = root+'data/'\n",
    "#make sure data file location exists\n",
    "checkdir(data_loc)\n",
    "#Save dataframe out \n",
    "ep_df.to_csv(data_loc+data_name+'.csv')\n",
    "#Print dataframe for ease of quick check\n",
    "print(ep_df)"
   ]
  }
 ],
 "metadata": {
  "kernelspec": {
   "display_name": "Python 3",
   "language": "python",
   "name": "python3"
  },
  "language_info": {
   "codemirror_mode": {
    "name": "ipython",
    "version": 3
   },
   "file_extension": ".py",
   "mimetype": "text/x-python",
   "name": "python",
   "nbconvert_exporter": "python",
   "pygments_lexer": "ipython3",
   "version": "3.8.5"
  }
 },
 "nbformat": 4,
 "nbformat_minor": 4
}
